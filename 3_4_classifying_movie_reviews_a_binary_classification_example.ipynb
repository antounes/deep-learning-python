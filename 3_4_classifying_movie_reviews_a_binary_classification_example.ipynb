{
  "nbformat": 4,
  "nbformat_minor": 0,
  "metadata": {
    "colab": {
      "name": "3-4_classifying_movie_reviews_a_binary_classification_example.ipynb",
      "provenance": [],
      "collapsed_sections": [],
      "authorship_tag": "ABX9TyPkDr88ZxsgUKUwcdLpahS1",
      "include_colab_link": true
    },
    "kernelspec": {
      "name": "python3",
      "display_name": "Python 3"
    },
    "language_info": {
      "name": "python"
    }
  },
  "cells": [
    {
      "cell_type": "markdown",
      "metadata": {
        "id": "view-in-github",
        "colab_type": "text"
      },
      "source": [
        "<a href=\"https://colab.research.google.com/github/antounes/deep-learning-python/blob/main/3_4_classifying_movie_reviews_a_binary_classification_example.ipynb\" target=\"_parent\"><img src=\"https://colab.research.google.com/assets/colab-badge.svg\" alt=\"Open In Colab\"/></a>"
      ]
    },
    {
      "cell_type": "markdown",
      "source": [
        "# Classifying Movie Reviews: A Binary Classification Example"
      ],
      "metadata": {
        "id": "9U_S4i1hyb6z"
      }
    },
    {
      "cell_type": "code",
      "source": [
        "import tensorflow as tf\n",
        "import numpy as np"
      ],
      "metadata": {
        "id": "0I87apio8UmE"
      },
      "execution_count": 23,
      "outputs": []
    },
    {
      "cell_type": "markdown",
      "source": [
        "## The IMBD Dataset"
      ],
      "metadata": {
        "id": "AMvV-nGmytqd"
      }
    },
    {
      "cell_type": "code",
      "source": [
        "from keras.datasets import imdb\n",
        "\n",
        "(train_data, train_labels), (test_data, test_labels) = imdb.load_data(num_words=10000) # Keep only the 10,000 most frequently occurring words in the training data"
      ],
      "metadata": {
        "id": "eg2zeKn2ytyc"
      },
      "execution_count": 24,
      "outputs": []
    },
    {
      "cell_type": "code",
      "source": [
        "#train_data[0]\n",
        "#train_labels[0]"
      ],
      "metadata": {
        "id": "zC9HxYxxzOQg"
      },
      "execution_count": 25,
      "outputs": []
    },
    {
      "cell_type": "code",
      "source": [
        "# Let's quickly decode one of the reviews back to English vocabulary\n",
        "\n",
        "word_index = imdb.get_word_index() # dictionary mapping words to an integer index\n",
        "reverse_word_index = {value: key for key, value in word_index.items()}\n",
        "decoded_review = ' '.join(\n",
        "    [reverse_word_index.get(i-3, '?') for i in train_data[0]] # indices offset by 3 because 0, 1 and 2 are reserved indices for \"padding\", \"start of sequence\" and \"unknown\"\n",
        ")"
      ],
      "metadata": {
        "id": "7n1k5z-ZzZSH"
      },
      "execution_count": 26,
      "outputs": []
    },
    {
      "cell_type": "code",
      "source": [
        "decoded_review"
      ],
      "metadata": {
        "colab": {
          "base_uri": "https://localhost:8080/",
          "height": 121
        },
        "id": "alw5imZH0pNw",
        "outputId": "51596d47-0ce9-4d49-9f74-41a50ee0ea3e"
      },
      "execution_count": 27,
      "outputs": [
        {
          "output_type": "execute_result",
          "data": {
            "application/vnd.google.colaboratory.intrinsic+json": {
              "type": "string"
            },
            "text/plain": [
              "\"? this film was just brilliant casting location scenery story direction everyone's really suited the part they played and you could just imagine being there robert ? is an amazing actor and now the same being director ? father came from the same scottish island as myself so i loved the fact there was a real connection with this film the witty remarks throughout the film were great it was just brilliant so much that i bought the film as soon as it was released for ? and would recommend it to everyone to watch and the fly fishing was amazing really cried at the end it was so sad and you know what they say if you cry at a film it must have been good and this definitely was also ? to the two little boy's that played the ? of norman and paul they were just brilliant children are often left out of the ? list i think because the stars that play them all grown up are such a big profile for the whole film but these children are amazing and should be praised for what they have done don't you think the whole story was so lovely because it was true and was someone's life after all that was shared with us all\""
            ]
          },
          "metadata": {},
          "execution_count": 27
        }
      ]
    },
    {
      "cell_type": "markdown",
      "source": [
        "## Preparing the data"
      ],
      "metadata": {
        "id": "9kq1UuXw0zoT"
      }
    },
    {
      "cell_type": "code",
      "source": [
        "# Encoding the integer sequences into a binary matrix\n",
        "\n",
        "def vectorize_sequences(sequences, dimension=10000):\n",
        "  results = np.zeros((len(sequences), dimension))  # create and all-zero matrix of shape (len(sequences), dimension)\n",
        "  for i, sequence in enumerate(sequences):\n",
        "    results[i, sequence] = 1. # set specific indices of results[i] to 1s\n",
        "  return results\n",
        "\n",
        "x_train = vectorize_sequences(train_data)\n",
        "x_test = vectorize_sequences(test_data)"
      ],
      "metadata": {
        "id": "NmMfTIjT02Ta"
      },
      "execution_count": 28,
      "outputs": []
    },
    {
      "cell_type": "code",
      "source": [
        "# Vetorise labels\n",
        "\n",
        "y_train = np.asarray(train_labels).astype('float32')\n",
        "y_test = np.asarray(test_labels).astype('float32')"
      ],
      "metadata": {
        "id": "YU4idyu94cXq"
      },
      "execution_count": 29,
      "outputs": []
    },
    {
      "cell_type": "code",
      "source": [
        "y_train"
      ],
      "metadata": {
        "colab": {
          "base_uri": "https://localhost:8080/"
        },
        "id": "hqSoYFIQ4NxY",
        "outputId": "d70853d2-06a9-4242-e2d1-323e6ab1d527"
      },
      "execution_count": 30,
      "outputs": [
        {
          "output_type": "execute_result",
          "data": {
            "text/plain": [
              "array([1., 0., 0., ..., 0., 1., 0.], dtype=float32)"
            ]
          },
          "metadata": {},
          "execution_count": 30
        }
      ]
    },
    {
      "cell_type": "markdown",
      "source": [
        "## Building the Network"
      ],
      "metadata": {
        "id": "GpZltNU05Byn"
      }
    },
    {
      "cell_type": "code",
      "source": [
        "# Input data = vectors\n",
        "# Output data = scalars\n",
        "# A type of network that performs well on such a problem is a simple stack of fully connected (`Dense`) layers with `relu` activations: `Dense(16, activation='relu')`\n",
        "# Two intermediate layers with 16 hidden units each with `relu`activation\n",
        "# A third layer that will output the scalar prediction regarding the sentiment of the current review with `sigmoid` activation (outputs a probability between 0 and 1 indicating\n",
        "# how likely the sample is to have the target `1`: i.e. how likely the review is to be positive)\n",
        "\n",
        "model = tf.keras.models.Sequential([\n",
        "     tf.keras.layers.Flatten(input_shape=(10000,)),\n",
        "     tf.keras.layers.Dense(16, activation='relu'),\n",
        "     tf.keras.layers.Dense(16, activation='relu'),\n",
        "     tf.keras.layers.Dense(1, activation='sigmoid')])\n",
        "\n",
        "model.compile(optimizer='rmsprop',\n",
        "              loss='binary_crossentropy',\n",
        "              metrics=['accuracy'])"
      ],
      "metadata": {
        "id": "V-38dAKX5V0E"
      },
      "execution_count": 31,
      "outputs": []
    },
    {
      "cell_type": "markdown",
      "source": [
        "## Validating the approach"
      ],
      "metadata": {
        "id": "DJzR5aPz8O9n"
      }
    },
    {
      "cell_type": "code",
      "source": [
        "# Set aside a validation set\n",
        "\n",
        "x_val, y_val = x_train[:10000], y_train[:10000]\n",
        "partial_x_train, partial_y_train = x_train[10000:], y_train[10000:]"
      ],
      "metadata": {
        "id": "jEzDveZ38fne"
      },
      "execution_count": 33,
      "outputs": []
    },
    {
      "cell_type": "code",
      "source": [
        "# Train the model for 20 epochs (20 iterations over all samples in the x_train and y_train tensors)\n",
        "# Mini-batches of 512 samples\n",
        "# Monitor accuracy at the same time on the 10,000 samples set apart by passing the validation data as the `validation_data` argument\n",
        "\n",
        "history = model.fit(\n",
        "    partial_x_train, partial_y_train, epochs=20, batch_size=512,  validation_data=(x_val, y_val))"
      ],
      "metadata": {
        "id": "SO_KS0hU8xeP"
      },
      "execution_count": null,
      "outputs": []
    }
  ]
}