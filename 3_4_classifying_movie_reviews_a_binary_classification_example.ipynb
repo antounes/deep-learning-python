{
  "nbformat": 4,
  "nbformat_minor": 0,
  "metadata": {
    "colab": {
      "name": "3-4_classifying_movie_reviews_a_binary_classification_example.ipynb",
      "provenance": [],
      "collapsed_sections": [],
      "authorship_tag": "ABX9TyODdSHX+p9qPe5Ye+vVFR6n",
      "include_colab_link": true
    },
    "kernelspec": {
      "name": "python3",
      "display_name": "Python 3"
    },
    "language_info": {
      "name": "python"
    },
    "accelerator": "GPU"
  },
  "cells": [
    {
      "cell_type": "markdown",
      "metadata": {
        "id": "view-in-github",
        "colab_type": "text"
      },
      "source": [
        "<a href=\"https://colab.research.google.com/github/antounes/deep-learning-python/blob/main/3_4_classifying_movie_reviews_a_binary_classification_example.ipynb\" target=\"_parent\"><img src=\"https://colab.research.google.com/assets/colab-badge.svg\" alt=\"Open In Colab\"/></a>"
      ]
    },
    {
      "cell_type": "markdown",
      "source": [
        "# Classifying Movie Reviews: A Binary Classification Example"
      ],
      "metadata": {
        "id": "9U_S4i1hyb6z"
      }
    },
    {
      "cell_type": "code",
      "source": [
        "import tensorflow as tf\n",
        "import numpy as np\n",
        "import matplotlib.pyplot as plt\n",
        "import gc\n",
        "\n",
        "# Custom garbage collector callback to include in callbacks list when training models\n",
        "class GarbageCollectorCallback(tf.keras.callbacks.Callback):\n",
        "  def on_epoch_end(self, epoch, logs=None):\n",
        "    gc.collect()"
      ],
      "metadata": {
        "id": "0I87apio8UmE"
      },
      "execution_count": 11,
      "outputs": []
    },
    {
      "cell_type": "markdown",
      "source": [
        "## The IMBD Dataset"
      ],
      "metadata": {
        "id": "AMvV-nGmytqd"
      }
    },
    {
      "cell_type": "code",
      "source": [
        "from keras.datasets import imdb\n",
        "\n",
        "(train_data, train_labels), (test_data, test_labels) = imdb.load_data(num_words=10000) # Keep only the 10,000 most frequently occurring words in the training data"
      ],
      "metadata": {
        "id": "eg2zeKn2ytyc"
      },
      "execution_count": 2,
      "outputs": []
    },
    {
      "cell_type": "code",
      "source": [
        "#train_data[0]\n",
        "#train_labels[0]"
      ],
      "metadata": {
        "id": "zC9HxYxxzOQg"
      },
      "execution_count": 3,
      "outputs": []
    },
    {
      "cell_type": "code",
      "source": [
        "# Let's quickly decode one of the reviews back to English vocabulary\n",
        "\n",
        "word_index = imdb.get_word_index() # dictionary mapping words to an integer index\n",
        "reverse_word_index = {value: key for key, value in word_index.items()}\n",
        "decoded_review = ' '.join(\n",
        "    [reverse_word_index.get(i-3, '?') for i in train_data[0]] # indices offset by 3 because 0, 1 and 2 are reserved indices for \"padding\", \"start of sequence\" and \"unknown\"\n",
        ")"
      ],
      "metadata": {
        "colab": {
          "base_uri": "https://localhost:8080/"
        },
        "id": "7n1k5z-ZzZSH",
        "outputId": "e7fb3cf2-62e9-4f3c-e5fd-2fbb7813a2a3"
      },
      "execution_count": 4,
      "outputs": [
        {
          "output_type": "stream",
          "name": "stdout",
          "text": [
            "Downloading data from https://storage.googleapis.com/tensorflow/tf-keras-datasets/imdb_word_index.json\n",
            "1646592/1641221 [==============================] - 0s 0us/step\n",
            "1654784/1641221 [==============================] - 0s 0us/step\n"
          ]
        }
      ]
    },
    {
      "cell_type": "code",
      "source": [
        "decoded_review"
      ],
      "metadata": {
        "colab": {
          "base_uri": "https://localhost:8080/",
          "height": 121
        },
        "id": "alw5imZH0pNw",
        "outputId": "1d3404f4-88bf-4d97-8c10-763c00b78819"
      },
      "execution_count": 5,
      "outputs": [
        {
          "output_type": "execute_result",
          "data": {
            "application/vnd.google.colaboratory.intrinsic+json": {
              "type": "string"
            },
            "text/plain": [
              "\"? this film was just brilliant casting location scenery story direction everyone's really suited the part they played and you could just imagine being there robert ? is an amazing actor and now the same being director ? father came from the same scottish island as myself so i loved the fact there was a real connection with this film the witty remarks throughout the film were great it was just brilliant so much that i bought the film as soon as it was released for ? and would recommend it to everyone to watch and the fly fishing was amazing really cried at the end it was so sad and you know what they say if you cry at a film it must have been good and this definitely was also ? to the two little boy's that played the ? of norman and paul they were just brilliant children are often left out of the ? list i think because the stars that play them all grown up are such a big profile for the whole film but these children are amazing and should be praised for what they have done don't you think the whole story was so lovely because it was true and was someone's life after all that was shared with us all\""
            ]
          },
          "metadata": {},
          "execution_count": 5
        }
      ]
    },
    {
      "cell_type": "markdown",
      "source": [
        "## Preparing the data"
      ],
      "metadata": {
        "id": "9kq1UuXw0zoT"
      }
    },
    {
      "cell_type": "code",
      "source": [
        "# Encoding the integer sequences into a binary matrix\n",
        "\n",
        "def vectorize_sequences(sequences, dimension=10000):\n",
        "  results = np.zeros((len(sequences), dimension))  # create and all-zero matrix of shape (len(sequences), dimension)\n",
        "  for i, sequence in enumerate(sequences):\n",
        "    results[i, sequence] = 1. # set specific indices of results[i] to 1s\n",
        "  return results\n",
        "\n",
        "x_train = vectorize_sequences(train_data)\n",
        "x_test = vectorize_sequences(test_data)"
      ],
      "metadata": {
        "id": "NmMfTIjT02Ta"
      },
      "execution_count": 3,
      "outputs": []
    },
    {
      "cell_type": "code",
      "source": [
        "# Vetorise labels\n",
        "\n",
        "y_train = np.asarray(train_labels).astype('float32')\n",
        "y_test = np.asarray(test_labels).astype('float32')"
      ],
      "metadata": {
        "id": "YU4idyu94cXq"
      },
      "execution_count": 4,
      "outputs": []
    },
    {
      "cell_type": "code",
      "source": [
        "y_train"
      ],
      "metadata": {
        "colab": {
          "base_uri": "https://localhost:8080/"
        },
        "id": "hqSoYFIQ4NxY",
        "outputId": "0d46c030-623b-4249-8d78-c6fd4913ef5e"
      },
      "execution_count": 8,
      "outputs": [
        {
          "output_type": "execute_result",
          "data": {
            "text/plain": [
              "array([1., 0., 0., ..., 0., 1., 0.], dtype=float32)"
            ]
          },
          "metadata": {},
          "execution_count": 8
        }
      ]
    },
    {
      "cell_type": "markdown",
      "source": [
        "## Building the network"
      ],
      "metadata": {
        "id": "GpZltNU05Byn"
      }
    },
    {
      "cell_type": "code",
      "source": [
        "# Input data = vectors\n",
        "# Output data = scalars\n",
        "# A type of network that performs well on such a problem is a simple stack of fully connected (`Dense`) layers with `relu` activations: `Dense(16, activation='relu')`\n",
        "# Two intermediate layers with 16 hidden units each with `relu`activation\n",
        "# A third layer that will output the scalar prediction regarding the sentiment of the current review with `sigmoid` activation (outputs a probability between 0 and 1 indicating\n",
        "# how likely the sample is to have the target `1`: i.e. how likely the review is to be positive)\n",
        "\n",
        "model = tf.keras.models.Sequential([\n",
        "     tf.keras.layers.Flatten(input_shape=(10000,)),\n",
        "     tf.keras.layers.Dense(16, activation='relu'),\n",
        "     tf.keras.layers.Dense(16, activation='relu'),\n",
        "     tf.keras.layers.Dense(1, activation='sigmoid')])\n",
        "\n",
        "model.compile(optimizer='rmsprop',\n",
        "              loss='binary_crossentropy',\n",
        "              metrics=['accuracy'])"
      ],
      "metadata": {
        "id": "V-38dAKX5V0E"
      },
      "execution_count": 9,
      "outputs": []
    },
    {
      "cell_type": "markdown",
      "source": [
        "## Validating the approach"
      ],
      "metadata": {
        "id": "DJzR5aPz8O9n"
      }
    },
    {
      "cell_type": "code",
      "source": [
        "# Set aside a validation set\n",
        "\n",
        "x_val, y_val = x_train[:10000], y_train[:10000]\n",
        "partial_x_train, partial_y_train = x_train[10000:], y_train[10000:]"
      ],
      "metadata": {
        "id": "jEzDveZ38fne"
      },
      "execution_count": 6,
      "outputs": []
    },
    {
      "cell_type": "code",
      "source": [
        "# Train the model for 20 epochs (20 iterations over all samples in the x_train and y_train tensors)\n",
        "# Mini-batches of 512 samples\n",
        "# Monitor accuracy at the same time on the 10,000 samples set apart by passing the validation data as the `validation_data` argument\n",
        "\n",
        "history = model.fit(\n",
        "    partial_x_train, partial_y_train, epochs=20, batch_size=512,  validation_data=(x_val, y_val))"
      ],
      "metadata": {
        "colab": {
          "base_uri": "https://localhost:8080/"
        },
        "id": "SO_KS0hU8xeP",
        "outputId": "3ae68021-5111-4d97-aae8-75089ddd6884"
      },
      "execution_count": 11,
      "outputs": [
        {
          "output_type": "stream",
          "name": "stdout",
          "text": [
            "Epoch 1/20\n",
            "30/30 [==============================] - 4s 44ms/step - loss: 0.5114 - accuracy: 0.7840 - val_loss: 0.4123 - val_accuracy: 0.8389\n",
            "Epoch 2/20\n",
            "30/30 [==============================] - 1s 22ms/step - loss: 0.3007 - accuracy: 0.9031 - val_loss: 0.3055 - val_accuracy: 0.8836\n",
            "Epoch 3/20\n",
            "30/30 [==============================] - 1s 21ms/step - loss: 0.2218 - accuracy: 0.9260 - val_loss: 0.2783 - val_accuracy: 0.8897\n",
            "Epoch 4/20\n",
            "30/30 [==============================] - 1s 25ms/step - loss: 0.1729 - accuracy: 0.9428 - val_loss: 0.2741 - val_accuracy: 0.8915\n",
            "Epoch 5/20\n",
            "30/30 [==============================] - 1s 24ms/step - loss: 0.1421 - accuracy: 0.9551 - val_loss: 0.3224 - val_accuracy: 0.8716\n",
            "Epoch 6/20\n",
            "30/30 [==============================] - 1s 24ms/step - loss: 0.1187 - accuracy: 0.9613 - val_loss: 0.2915 - val_accuracy: 0.8870\n",
            "Epoch 7/20\n",
            "30/30 [==============================] - 1s 21ms/step - loss: 0.0970 - accuracy: 0.9707 - val_loss: 0.3311 - val_accuracy: 0.8802\n",
            "Epoch 8/20\n",
            "30/30 [==============================] - 1s 21ms/step - loss: 0.0823 - accuracy: 0.9763 - val_loss: 0.3386 - val_accuracy: 0.8767\n",
            "Epoch 9/20\n",
            "30/30 [==============================] - 1s 21ms/step - loss: 0.0688 - accuracy: 0.9807 - val_loss: 0.3554 - val_accuracy: 0.8760\n",
            "Epoch 10/20\n",
            "30/30 [==============================] - 1s 22ms/step - loss: 0.0554 - accuracy: 0.9858 - val_loss: 0.3775 - val_accuracy: 0.8793\n",
            "Epoch 11/20\n",
            "30/30 [==============================] - 1s 21ms/step - loss: 0.0459 - accuracy: 0.9890 - val_loss: 0.4072 - val_accuracy: 0.8740\n",
            "Epoch 12/20\n",
            "30/30 [==============================] - 1s 21ms/step - loss: 0.0406 - accuracy: 0.9897 - val_loss: 0.4315 - val_accuracy: 0.8723\n",
            "Epoch 13/20\n",
            "30/30 [==============================] - 1s 21ms/step - loss: 0.0303 - accuracy: 0.9939 - val_loss: 0.4639 - val_accuracy: 0.8723\n",
            "Epoch 14/20\n",
            "30/30 [==============================] - 1s 20ms/step - loss: 0.0228 - accuracy: 0.9967 - val_loss: 0.5790 - val_accuracy: 0.8531\n",
            "Epoch 15/20\n",
            "30/30 [==============================] - 1s 22ms/step - loss: 0.0208 - accuracy: 0.9961 - val_loss: 0.5275 - val_accuracy: 0.8688\n",
            "Epoch 16/20\n",
            "30/30 [==============================] - 1s 21ms/step - loss: 0.0181 - accuracy: 0.9967 - val_loss: 0.5537 - val_accuracy: 0.8711\n",
            "Epoch 17/20\n",
            "30/30 [==============================] - 1s 21ms/step - loss: 0.0121 - accuracy: 0.9985 - val_loss: 0.5879 - val_accuracy: 0.8688\n",
            "Epoch 18/20\n",
            "30/30 [==============================] - 1s 22ms/step - loss: 0.0122 - accuracy: 0.9979 - val_loss: 0.6230 - val_accuracy: 0.8696\n",
            "Epoch 19/20\n",
            "30/30 [==============================] - 1s 21ms/step - loss: 0.0063 - accuracy: 0.9997 - val_loss: 0.7022 - val_accuracy: 0.8563\n",
            "Epoch 20/20\n",
            "30/30 [==============================] - 1s 21ms/step - loss: 0.0107 - accuracy: 0.9977 - val_loss: 0.6953 - val_accuracy: 0.8661\n"
          ]
        }
      ]
    },
    {
      "cell_type": "code",
      "source": [
        "# Plotting the training and validation loss\n",
        "\n",
        "history_dict = history.history\n",
        "loss_values = history_dict['loss']\n",
        "acc = history_dict['accuracy']\n",
        "val_loss_values = history_dict['val_loss']\n",
        "\n",
        "epochs = range(1, len(acc) + 1)\n",
        "\n",
        "plt.plot(epochs, loss_values, 'bo', label='training loss')\n",
        "plt.plot(epochs, val_loss_values, 'b', label='validation loss')\n",
        "plt.title('Training and validation loss')\n",
        "plt.xlabel('epochs')\n",
        "plt.ylabel('loss')\n",
        "plt.legend()\n",
        "\n",
        "plt.show()"
      ],
      "metadata": {
        "colab": {
          "base_uri": "https://localhost:8080/",
          "height": 294
        },
        "id": "2p3j00oqgMIx",
        "outputId": "1ce641a3-8675-4989-d64d-9d844fc1c7a4"
      },
      "execution_count": 12,
      "outputs": [
        {
          "output_type": "display_data",
          "data": {
            "image/png": "[encoded data removed]",
            "text/plain": [
              "<Figure size 432x288 with 1 Axes>"
            ]
          },
          "metadata": {
            "needs_background": "light"
          }
        }
      ]
    },
    {
      "cell_type": "code",
      "source": [
        "# Plotting the training and validation accuracy\n",
        "acc_values = history_dict['accuracy']\n",
        "val_acc = history_dict['val_accuracy']\n",
        "\n",
        "plt.plot(epochs, acc, 'bo', label='training accuracy')\n",
        "plt.plot(epochs, val_acc, 'b', label='validation accuracy')\n",
        "plt.title('Training and validation accuracy')\n",
        "plt.xlabel('epochs')\n",
        "plt.ylabel('accuracy')\n",
        "plt.legend()\n",
        "\n",
        "plt.show()"
      ],
      "metadata": {
        "colab": {
          "base_uri": "https://localhost:8080/",
          "height": 294
        },
        "id": "z2YnVWLQhNb6",
        "outputId": "ab4e48a5-ad2d-4f3c-fc3a-e2ade2462d1e"
      },
      "execution_count": 13,
      "outputs": [
        {
          "output_type": "display_data",
          "data": {
            "image/png": "[encoded data removed]",
            "text/plain": [
              "<Figure size 432x288 with 1 Axes>"
            ]
          },
          "metadata": {
            "needs_background": "light"
          }
        }
      ]
    },
    {
      "cell_type": "code",
      "source": [
        "# Retraining a model from scratch\n",
        "\n",
        "model = tf.keras.models.Sequential([\n",
        "     tf.keras.layers.Flatten(input_shape=(10000,)),\n",
        "     tf.keras.layers.Dense(16, activation='relu'),\n",
        "     tf.keras.layers.Dense(16, activation='relu'),\n",
        "     tf.keras.layers.Dense(1, activation='sigmoid')])\n",
        "\n",
        "model.compile(optimizer='rmsprop',\n",
        "              loss='binary_crossentropy',\n",
        "              metrics=['accuracy'])\n",
        "\n",
        "model.fit(x_train, y_train, epochs=4, batch_size=512)\n",
        "results = model.evaluate(x_test, y_test)"
      ],
      "metadata": {
        "colab": {
          "base_uri": "https://localhost:8080/"
        },
        "id": "4TJ3LcsXh5i2",
        "outputId": "c8bf70d6-ee25-46e6-a73f-15beab6b2567"
      },
      "execution_count": 14,
      "outputs": [
        {
          "output_type": "stream",
          "name": "stdout",
          "text": [
            "Epoch 1/4\n",
            "49/49 [==============================] - 1s 14ms/step - loss: 0.4550 - accuracy: 0.8196\n",
            "Epoch 2/4\n",
            "49/49 [==============================] - 1s 14ms/step - loss: 0.2560 - accuracy: 0.9110\n",
            "Epoch 3/4\n",
            "49/49 [==============================] - 1s 14ms/step - loss: 0.1981 - accuracy: 0.9313\n",
            "Epoch 4/4\n",
            "49/49 [==============================] - 1s 14ms/step - loss: 0.1661 - accuracy: 0.9398\n",
            "782/782 [==============================] - 3s 3ms/step - loss: 0.2939 - accuracy: 0.8847\n"
          ]
        }
      ]
    },
    {
      "cell_type": "markdown",
      "source": [
        "## Using a trained network to generate predicitions on new data"
      ],
      "metadata": {
        "id": "BQFwpX39kg62"
      }
    },
    {
      "cell_type": "code",
      "source": [
        "model.predict(x_test)"
      ],
      "metadata": {
        "colab": {
          "base_uri": "https://localhost:8080/"
        },
        "id": "abisDgsykwbg",
        "outputId": "06fa63a2-293b-4d96-fc38-4b0c2b7bce0d"
      },
      "execution_count": 15,
      "outputs": [
        {
          "output_type": "execute_result",
          "data": {
            "text/plain": [
              "array([[0.1773597 ],\n",
              "       [0.9999249 ],\n",
              "       [0.93531495],\n",
              "       ...,\n",
              "       [0.1159542 ],\n",
              "       [0.06567185],\n",
              "       [0.5602284 ]], dtype=float32)"
            ]
          },
          "metadata": {},
          "execution_count": 15
        }
      ]
    },
    {
      "cell_type": "markdown",
      "source": [
        "## Further experiments"
      ],
      "metadata": {
        "id": "Jcu9n1jilB6m"
      }
    },
    {
      "cell_type": "code",
      "source": [
        "# Try using one or three hidden layers, and see how doing so affects validation and test accuracy\n",
        "\n",
        "model = tf.keras.models.Sequential([\n",
        "     tf.keras.layers.Flatten(input_shape=(10000,)),\n",
        "     tf.keras.layers.Dense(16, activation='relu'),\n",
        "     tf.keras.layers.Dense(1, activation='sigmoid')])\n",
        "\n",
        "model.compile(optimizer='rmsprop',\n",
        "              loss='binary_crossentropy',\n",
        "              metrics=['accuracy'])\n",
        "\n",
        "model.fit(x_train, y_train, epochs=4, batch_size=512, validation_data=(x_val, y_val))\n",
        "\n",
        "results = model.evaluate(x_test, y_test)"
      ],
      "metadata": {
        "colab": {
          "base_uri": "https://localhost:8080/"
        },
        "id": "wUYZgXrxlI-5",
        "outputId": "a1444073-4c95-4fbb-c136-1f09fb5e6d40"
      },
      "execution_count": 16,
      "outputs": [
        {
          "output_type": "stream",
          "name": "stdout",
          "text": [
            "Epoch 1/4\n",
            "49/49 [==============================] - 2s 32ms/step - loss: 0.4421 - accuracy: 0.8245 - val_loss: 0.2969 - val_accuracy: 0.9157\n",
            "Epoch 2/4\n",
            "49/49 [==============================] - 1s 18ms/step - loss: 0.2716 - accuracy: 0.9095 - val_loss: 0.2218 - val_accuracy: 0.9287\n",
            "Epoch 3/4\n",
            "49/49 [==============================] - 1s 18ms/step - loss: 0.2154 - accuracy: 0.9284 - val_loss: 0.1783 - val_accuracy: 0.9452\n",
            "Epoch 4/4\n",
            "49/49 [==============================] - 1s 18ms/step - loss: 0.1835 - accuracy: 0.9387 - val_loss: 0.1540 - val_accuracy: 0.9536\n",
            "782/782 [==============================] - 3s 3ms/step - loss: 0.2820 - accuracy: 0.8872\n"
          ]
        }
      ]
    },
    {
      "cell_type": "code",
      "source": [
        "model = tf.keras.models.Sequential([\n",
        "     tf.keras.layers.Flatten(input_shape=(10000,)),\n",
        "     tf.keras.layers.Dense(16, activation='relu'),\n",
        "     tf.keras.layers.Dense(16, activation='relu'),\n",
        "     tf.keras.layers.Dense(16, activation='relu'),\n",
        "     tf.keras.layers.Dense(1, activation='sigmoid')])\n",
        "\n",
        "model.compile(optimizer='rmsprop',\n",
        "              loss='binary_crossentropy',\n",
        "              metrics=['accuracy'])\n",
        "\n",
        "model.fit(x_train, y_train, epochs=4, batch_size=512, validation_data=(x_val, y_val))\n",
        "\n",
        "results = model.evaluate(x_test, y_test)"
      ],
      "metadata": {
        "colab": {
          "base_uri": "https://localhost:8080/"
        },
        "id": "p1jPj450lJFA",
        "outputId": "d0025425-a8db-4be1-fd66-3786454d5d1f"
      },
      "execution_count": 7,
      "outputs": [
        {
          "output_type": "stream",
          "name": "stdout",
          "text": [
            "Epoch 1/4\n",
            "49/49 [==============================] - 4s 32ms/step - loss: 0.4394 - accuracy: 0.8178 - val_loss: 0.3767 - val_accuracy: 0.8388\n",
            "Epoch 2/4\n",
            "49/49 [==============================] - 1s 20ms/step - loss: 0.2439 - accuracy: 0.9109 - val_loss: 0.1725 - val_accuracy: 0.9439\n",
            "Epoch 3/4\n",
            "49/49 [==============================] - 1s 19ms/step - loss: 0.1915 - accuracy: 0.9303 - val_loss: 0.1421 - val_accuracy: 0.9527\n",
            "Epoch 4/4\n",
            "49/49 [==============================] - 1s 19ms/step - loss: 0.1575 - accuracy: 0.9427 - val_loss: 0.1108 - val_accuracy: 0.9674\n",
            "782/782 [==============================] - 3s 3ms/step - loss: 0.3133 - accuracy: 0.8806\n"
          ]
        }
      ]
    },
    {
      "cell_type": "code",
      "source": [
        "# Try using layers with more hidden units or fewer hidden units: 32 units, 64 units, and so on\n",
        "\n",
        "model = tf.keras.models.Sequential([\n",
        "     tf.keras.layers.Flatten(input_shape=(10000,)),\n",
        "     tf.keras.layers.Dense(32, activation='relu'),\n",
        "     tf.keras.layers.Dense(32, activation='relu'),\n",
        "     tf.keras.layers.Dense(1, activation='sigmoid')])\n",
        "\n",
        "model.compile(optimizer='rmsprop',\n",
        "              loss='binary_crossentropy',\n",
        "              metrics=['accuracy'])\n",
        "\n",
        "model.fit(x_train, y_train, epochs=4, batch_size=512, callbacks=[GarbageCollectorCallback()])\n",
        "results = model.evaluate(x_test, y_test)"
      ],
      "metadata": {
        "colab": {
          "base_uri": "https://localhost:8080/"
        },
        "id": "_7SgbZ-4lJI8",
        "outputId": "1471affb-db2a-4327-c992-adcd2f69a084"
      },
      "execution_count": 12,
      "outputs": [
        {
          "output_type": "stream",
          "name": "stdout",
          "text": [
            "Epoch 1/4\n",
            "49/49 [==============================] - 3s 30ms/step - loss: 0.4532 - accuracy: 0.8151\n",
            "Epoch 2/4\n",
            "49/49 [==============================] - 1s 25ms/step - loss: 0.2469 - accuracy: 0.9109\n",
            "Epoch 3/4\n",
            "49/49 [==============================] - 1s 27ms/step - loss: 0.1919 - accuracy: 0.9305\n",
            "Epoch 4/4\n",
            "49/49 [==============================] - 1s 26ms/step - loss: 0.1603 - accuracy: 0.9409\n",
            "782/782 [==============================] - 3s 3ms/step - loss: 0.3138 - accuracy: 0.8780\n"
          ]
        }
      ]
    },
    {
      "cell_type": "code",
      "source": [
        "model = tf.keras.models.Sequential([\n",
        "     tf.keras.layers.Flatten(input_shape=(10000,)),\n",
        "     tf.keras.layers.Dense(64, activation='relu'),\n",
        "     tf.keras.layers.Dense(64, activation='relu'),\n",
        "     tf.keras.layers.Dense(1, activation='sigmoid')])\n",
        "\n",
        "model.compile(optimizer='rmsprop',\n",
        "              loss='binary_crossentropy',\n",
        "              metrics=['accuracy'])\n",
        "\n",
        "model.fit(x_train, y_train, epochs=4, batch_size=512, callbacks=[GarbageCollectorCallback()])\n",
        "results = model.evaluate(x_test, y_test)"
      ],
      "metadata": {
        "colab": {
          "base_uri": "https://localhost:8080/"
        },
        "id": "NDHcr-h4voFh",
        "outputId": "17d77453-fa28-44ee-9305-564ee796a777"
      },
      "execution_count": 13,
      "outputs": [
        {
          "output_type": "stream",
          "name": "stdout",
          "text": [
            "Epoch 1/4\n",
            "49/49 [==============================] - 2s 21ms/step - loss: 0.4149 - accuracy: 0.8184\n",
            "Epoch 2/4\n",
            "49/49 [==============================] - 1s 21ms/step - loss: 0.2373 - accuracy: 0.9089\n",
            "Epoch 3/4\n",
            "49/49 [==============================] - 1s 21ms/step - loss: 0.1816 - accuracy: 0.9313\n",
            "Epoch 4/4\n",
            "49/49 [==============================] - 1s 20ms/step - loss: 0.1441 - accuracy: 0.9470\n",
            "782/782 [==============================] - 3s 3ms/step - loss: 0.3269 - accuracy: 0.8766\n"
          ]
        }
      ]
    },
    {
      "cell_type": "code",
      "source": [
        "# Try using the `mse` loss function instead of `binary_crossentropy``\n",
        "\n",
        "model = tf.keras.models.Sequential([\n",
        "     tf.keras.layers.Flatten(input_shape=(10000,)),\n",
        "     tf.keras.layers.Dense(16, activation='relu'),\n",
        "     tf.keras.layers.Dense(16, activation='relu'),\n",
        "     tf.keras.layers.Dense(1, activation='sigmoid')])\n",
        "\n",
        "model.compile(optimizer='rmsprop',\n",
        "              loss='mse',\n",
        "              metrics=['accuracy'])\n",
        "\n",
        "model.fit(x_train, y_train, epochs=4, batch_size=512, callbacks=[GarbageCollectorCallback()])\n",
        "results = model.evaluate(x_test, y_test)"
      ],
      "metadata": {
        "colab": {
          "base_uri": "https://localhost:8080/"
        },
        "id": "WunyfypSwm-k",
        "outputId": "09509a1a-d4f0-49a7-8667-6c7d7a3ab0f5"
      },
      "execution_count": 15,
      "outputs": [
        {
          "output_type": "stream",
          "name": "stdout",
          "text": [
            "Epoch 1/4\n",
            "49/49 [==============================] - 2s 21ms/step - loss: 0.1547 - accuracy: 0.8135\n",
            "Epoch 2/4\n",
            "49/49 [==============================] - 1s 19ms/step - loss: 0.0794 - accuracy: 0.9090\n",
            "Epoch 3/4\n",
            "49/49 [==============================] - 1s 19ms/step - loss: 0.0586 - accuracy: 0.9316\n",
            "Epoch 4/4\n",
            "49/49 [==============================] - 1s 19ms/step - loss: 0.0487 - accuracy: 0.9413\n",
            "782/782 [==============================] - 3s 3ms/step - loss: 0.0866 - accuracy: 0.8840\n"
          ]
        }
      ]
    },
    {
      "cell_type": "code",
      "source": [
        "# Try using the `tanh` activation instead of `relu``\n",
        "\n",
        "model = tf.keras.models.Sequential([\n",
        "     tf.keras.layers.Flatten(input_shape=(10000,)),\n",
        "     tf.keras.layers.Dense(16, activation='tanh'),\n",
        "     tf.keras.layers.Dense(16, activation='tanh'),\n",
        "     tf.keras.layers.Dense(1, activation='sigmoid')])\n",
        "\n",
        "model.compile(optimizer='rmsprop',\n",
        "              loss='binary_crossentropy',\n",
        "              metrics=['accuracy'])\n",
        "\n",
        "model.fit(x_train, y_train, epochs=4, batch_size=512, callbacks=[GarbageCollectorCallback()])\n",
        "results = model.evaluate(x_test, y_test)"
      ],
      "metadata": {
        "colab": {
          "base_uri": "https://localhost:8080/"
        },
        "id": "Wb8RGEZAw8t7",
        "outputId": "eab69c6c-8156-445c-f390-e983d1073ad3"
      },
      "execution_count": 16,
      "outputs": [
        {
          "output_type": "stream",
          "name": "stdout",
          "text": [
            "Epoch 1/4\n",
            "49/49 [==============================] - 2s 20ms/step - loss: 0.4224 - accuracy: 0.8304\n",
            "Epoch 2/4\n",
            "49/49 [==============================] - 1s 20ms/step - loss: 0.2331 - accuracy: 0.9152\n",
            "Epoch 3/4\n",
            "49/49 [==============================] - 1s 20ms/step - loss: 0.1776 - accuracy: 0.9355\n",
            "Epoch 4/4\n",
            "49/49 [==============================] - 1s 19ms/step - loss: 0.1477 - accuracy: 0.9456\n",
            "782/782 [==============================] - 3s 3ms/step - loss: 0.3241 - accuracy: 0.8767\n"
          ]
        }
      ]
    }
  ]
}